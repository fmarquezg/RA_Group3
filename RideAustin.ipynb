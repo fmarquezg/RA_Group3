{
 "cells": [
  {
   "cell_type": "code",
   "execution_count": 1,
   "metadata": {
    "collapsed": true
   },
   "outputs": [],
   "source": [
    "import pandas as pd \n",
    "import numpy as np"
   ]
  },
  {
   "cell_type": "code",
   "execution_count": 2,
   "metadata": {
    "collapsed": false
   },
   "outputs": [
    {
     "name": "stderr",
     "output_type": "stream",
     "text": [
      "/Users/dcolton/anaconda/lib/python2.7/site-packages/IPython/core/interactiveshell.py:2723: DtypeWarning: Columns (7,8) have mixed types. Specify dtype option on import or set low_memory=False.\n",
      "  interactivity=interactivity, compiler=compiler, result=result)\n"
     ]
    }
   ],
   "source": [
    "dfa = pd.read_csv('RideAustin/Rides_DataA.csv')\n",
    "dfb = pd.read_csv('RideAustin/Rides_DataB.csv')"
   ]
  },
  {
   "cell_type": "code",
   "execution_count": 132,
   "metadata": {
    "collapsed": false
   },
   "outputs": [
    {
     "name": "stdout",
     "output_type": "stream",
     "text": [
      "1811, Pearl Street, Austin, Travis County, Texas, 78701, United States of America\n",
      "(30.282923, -97.7470929714286)\n"
     ]
    }
   ],
   "source": [
    "from geopy.geocoders import Nominatim\n",
    "geolocator = Nominatim()\n",
    "location = geolocator.reverse(\"30.283, -97.747\")\n",
    "print(location.address)\n",
    "print((location.latitude, location.longitude))"
   ]
  },
  {
   "cell_type": "code",
   "execution_count": 118,
   "metadata": {
    "collapsed": false
   },
   "outputs": [],
   "source": [
    "df = pd.merge(dfa, dfb, on='RIDE_ID', how='outer')"
   ]
  },
  {
   "cell_type": "code",
   "execution_count": 124,
   "metadata": {
    "collapsed": false
   },
   "outputs": [],
   "source": [
    "df = df.drop(['driver_id','car_id','color','make','model','year','car_categories_bitmask'], axis=1)"
   ]
  },
  {
   "cell_type": "code",
   "execution_count": null,
   "metadata": {
    "collapsed": false
   },
   "outputs": [],
   "source": []
  },
  {
   "cell_type": "code",
   "execution_count": 123,
   "metadata": {
    "collapsed": false
   },
   "outputs": [
    {
     "data": {
      "text/plain": [
       "0.99    1332840\n",
       "1.50      86681\n",
       "2.60      54784\n",
       "2.75      13967\n",
       "3.75       4340\n",
       "0.00       1513\n",
       "Name: rate_per_mile, dtype: int64"
      ]
     },
     "execution_count": 123,
     "metadata": {},
     "output_type": "execute_result"
    }
   ],
   "source": [
    "df.rate_per_mile.value_counts()"
   ]
  },
  {
   "cell_type": "code",
   "execution_count": 153,
   "metadata": {
    "collapsed": false
   },
   "outputs": [],
   "source": [
    "latbins =  np.arange(30.120646,30.519264,0.02)\n",
    "df['slat'] = np.digitize(df['start_location_lat'],latbins)\n",
    "longbins =  np.arange(-97.96,-97.56,0.02)\n",
    "df['slong'] = np.digitize(df['start_location_long'],longbins)\n",
    "df['elat'] = np.digitize(df['end_location_lat'],latbins)\n",
    "df['elong'] = np.digitize(df['end_location_long'],longbins)\n",
    "gridbins =  np.arange(0,400,1)\n",
    "df['stringstart'] = df['slat'].astype(str) + df['slong'].astype(str)\n",
    "df['stringend'] = df['elat'].astype(str) + df['elong'].astype(str)\n",
    "df['equals'] = df['stringstart'] == df['stringend']"
   ]
  },
  {
   "cell_type": "code",
   "execution_count": 154,
   "metadata": {
    "collapsed": false
   },
   "outputs": [
    {
     "data": {
      "text/plain": [
       "False    1370723\n",
       "True      123402\n",
       "Name: equals, dtype: int64"
      ]
     },
     "execution_count": 154,
     "metadata": {},
     "output_type": "execute_result"
    }
   ],
   "source": [
    "df['equals'].value_counts()"
   ]
  },
  {
   "cell_type": "code",
   "execution_count": null,
   "metadata": {
    "collapsed": true
   },
   "outputs": [],
   "source": [
    "df['equals']"
   ]
  },
  {
   "cell_type": "code",
   "execution_count": null,
   "metadata": {
    "collapsed": true
   },
   "outputs": [],
   "source": [
    "df"
   ]
  },
  {
   "cell_type": "code",
   "execution_count": 145,
   "metadata": {
    "collapsed": false
   },
   "outputs": [
    {
     "name": "stdout",
     "output_type": "stream",
     "text": [
      "400\n"
     ]
    }
   ],
   "source": [
    "gridbins =  np.arange(0,400,1)\n",
    "print len(gridbins)"
   ]
  },
  {
   "cell_type": "code",
   "execution_count": 143,
   "metadata": {
    "collapsed": false
   },
   "outputs": [
    {
     "data": {
      "text/html": [
       "<div>\n",
       "<table border=\"1\" class=\"dataframe\">\n",
       "  <thead>\n",
       "    <tr style=\"text-align: right;\">\n",
       "      <th></th>\n",
       "      <th>RIDE_ID</th>\n",
       "      <th>started_on</th>\n",
       "      <th>created_date</th>\n",
       "      <th>updated_date</th>\n",
       "      <th>completed_on</th>\n",
       "      <th>distance_travelled</th>\n",
       "      <th>end_location_lat</th>\n",
       "      <th>end_location_long</th>\n",
       "      <th>driver_rating</th>\n",
       "      <th>rider_rating</th>\n",
       "      <th>...</th>\n",
       "      <th>dispatch_location_lat</th>\n",
       "      <th>dispatch_location_long</th>\n",
       "      <th>driving_distance_to_rider</th>\n",
       "      <th>dispatched_on</th>\n",
       "      <th>status</th>\n",
       "      <th>rating</th>\n",
       "      <th>slat</th>\n",
       "      <th>slong</th>\n",
       "      <th>elat</th>\n",
       "      <th>elong</th>\n",
       "    </tr>\n",
       "  </thead>\n",
       "  <tbody>\n",
       "    <tr>\n",
       "      <th>0</th>\n",
       "      <td>0</td>\n",
       "      <td>2016-06-04 00:18:49-05:00</td>\n",
       "      <td>2016-06-04 00:10:19-05:00</td>\n",
       "      <td>2016-06-04 00:27:48-05:00</td>\n",
       "      <td>2016-06-04 00:27:32-05:00</td>\n",
       "      <td>8459.0</td>\n",
       "      <td>38.676</td>\n",
       "      <td>-121.039</td>\n",
       "      <td>5.0</td>\n",
       "      <td>5.0</td>\n",
       "      <td>...</td>\n",
       "      <td>-121.039</td>\n",
       "      <td>-121.039</td>\n",
       "      <td>NaN</td>\n",
       "      <td>2016-06-04 05:10:19</td>\n",
       "      <td>b'DISPATCHED'</td>\n",
       "      <td>5.0</td>\n",
       "      <td>20</td>\n",
       "      <td>0</td>\n",
       "      <td>20</td>\n",
       "      <td>0</td>\n",
       "    </tr>\n",
       "    <tr>\n",
       "      <th>1</th>\n",
       "      <td>1</td>\n",
       "      <td>2016-06-04 01:50:12-05:00</td>\n",
       "      <td>2016-06-04 01:47:39-05:00</td>\n",
       "      <td>2016-06-04 01:52:00-05:00</td>\n",
       "      <td>2016-06-04 01:51:49-05:00</td>\n",
       "      <td>443.0</td>\n",
       "      <td>38.676</td>\n",
       "      <td>-121.039</td>\n",
       "      <td>5.0</td>\n",
       "      <td>5.0</td>\n",
       "      <td>...</td>\n",
       "      <td>-121.039</td>\n",
       "      <td>-121.039</td>\n",
       "      <td>NaN</td>\n",
       "      <td>2016-06-04 06:47:39</td>\n",
       "      <td>b'DISPATCHED'</td>\n",
       "      <td>5.0</td>\n",
       "      <td>20</td>\n",
       "      <td>0</td>\n",
       "      <td>20</td>\n",
       "      <td>0</td>\n",
       "    </tr>\n",
       "    <tr>\n",
       "      <th>2</th>\n",
       "      <td>2</td>\n",
       "      <td>2016-06-04 03:16:02-05:00</td>\n",
       "      <td>2016-06-04 03:13:07-05:00</td>\n",
       "      <td>2016-06-04 03:18:07-05:00</td>\n",
       "      <td>2016-06-04 03:17:57-05:00</td>\n",
       "      <td>568.0</td>\n",
       "      <td>38.676</td>\n",
       "      <td>-121.039</td>\n",
       "      <td>3.0</td>\n",
       "      <td>5.0</td>\n",
       "      <td>...</td>\n",
       "      <td>-121.039</td>\n",
       "      <td>-121.039</td>\n",
       "      <td>NaN</td>\n",
       "      <td>2016-06-04 08:13:07</td>\n",
       "      <td>b'DISPATCHED'</td>\n",
       "      <td>5.0</td>\n",
       "      <td>20</td>\n",
       "      <td>0</td>\n",
       "      <td>20</td>\n",
       "      <td>0</td>\n",
       "    </tr>\n",
       "    <tr>\n",
       "      <th>3</th>\n",
       "      <td>3</td>\n",
       "      <td>2016-06-04 10:05:13-05:00</td>\n",
       "      <td>2016-06-04 09:52:35-05:00</td>\n",
       "      <td>2016-06-04 10:14:00-05:00</td>\n",
       "      <td>2016-06-04 10:13:38-05:00</td>\n",
       "      <td>4051.0</td>\n",
       "      <td>30.271</td>\n",
       "      <td>-97.742</td>\n",
       "      <td>5.0</td>\n",
       "      <td>5.0</td>\n",
       "      <td>...</td>\n",
       "      <td>-97.742</td>\n",
       "      <td>-97.742</td>\n",
       "      <td>NaN</td>\n",
       "      <td>2016-06-04 14:52:35</td>\n",
       "      <td>b'DISPATCHED'</td>\n",
       "      <td>5.0</td>\n",
       "      <td>7</td>\n",
       "      <td>10</td>\n",
       "      <td>8</td>\n",
       "      <td>11</td>\n",
       "    </tr>\n",
       "    <tr>\n",
       "      <th>4</th>\n",
       "      <td>4</td>\n",
       "      <td>2016-06-04 10:24:25-05:00</td>\n",
       "      <td>2016-06-04 10:23:25-05:00</td>\n",
       "      <td>2016-06-04 10:26:16-05:00</td>\n",
       "      <td>2016-06-04 10:26:07-05:00</td>\n",
       "      <td>790.0</td>\n",
       "      <td>30.269</td>\n",
       "      <td>-97.752</td>\n",
       "      <td>5.0</td>\n",
       "      <td>5.0</td>\n",
       "      <td>...</td>\n",
       "      <td>-97.752</td>\n",
       "      <td>-97.752</td>\n",
       "      <td>NaN</td>\n",
       "      <td>2016-06-04 15:23:25</td>\n",
       "      <td>b'DISPATCHED'</td>\n",
       "      <td>5.0</td>\n",
       "      <td>8</td>\n",
       "      <td>11</td>\n",
       "      <td>8</td>\n",
       "      <td>11</td>\n",
       "    </tr>\n",
       "  </tbody>\n",
       "</table>\n",
       "<p>5 rows × 41 columns</p>\n",
       "</div>"
      ],
      "text/plain": [
       "   RIDE_ID                 started_on               created_date  \\\n",
       "0        0  2016-06-04 00:18:49-05:00  2016-06-04 00:10:19-05:00   \n",
       "1        1  2016-06-04 01:50:12-05:00  2016-06-04 01:47:39-05:00   \n",
       "2        2  2016-06-04 03:16:02-05:00  2016-06-04 03:13:07-05:00   \n",
       "3        3  2016-06-04 10:05:13-05:00  2016-06-04 09:52:35-05:00   \n",
       "4        4  2016-06-04 10:24:25-05:00  2016-06-04 10:23:25-05:00   \n",
       "\n",
       "                updated_date               completed_on  distance_travelled  \\\n",
       "0  2016-06-04 00:27:48-05:00  2016-06-04 00:27:32-05:00              8459.0   \n",
       "1  2016-06-04 01:52:00-05:00  2016-06-04 01:51:49-05:00               443.0   \n",
       "2  2016-06-04 03:18:07-05:00  2016-06-04 03:17:57-05:00               568.0   \n",
       "3  2016-06-04 10:14:00-05:00  2016-06-04 10:13:38-05:00              4051.0   \n",
       "4  2016-06-04 10:26:16-05:00  2016-06-04 10:26:07-05:00               790.0   \n",
       "\n",
       "   end_location_lat  end_location_long  driver_rating  rider_rating  ...    \\\n",
       "0            38.676           -121.039            5.0           5.0  ...     \n",
       "1            38.676           -121.039            5.0           5.0  ...     \n",
       "2            38.676           -121.039            3.0           5.0  ...     \n",
       "3            30.271            -97.742            5.0           5.0  ...     \n",
       "4            30.269            -97.752            5.0           5.0  ...     \n",
       "\n",
       "   dispatch_location_lat  dispatch_location_long driving_distance_to_rider  \\\n",
       "0               -121.039                -121.039                       NaN   \n",
       "1               -121.039                -121.039                       NaN   \n",
       "2               -121.039                -121.039                       NaN   \n",
       "3                -97.742                 -97.742                       NaN   \n",
       "4                -97.752                 -97.752                       NaN   \n",
       "\n",
       "         dispatched_on         status  rating  slat  slong  elat  elong  \n",
       "0  2016-06-04 05:10:19  b'DISPATCHED'     5.0    20      0    20      0  \n",
       "1  2016-06-04 06:47:39  b'DISPATCHED'     5.0    20      0    20      0  \n",
       "2  2016-06-04 08:13:07  b'DISPATCHED'     5.0    20      0    20      0  \n",
       "3  2016-06-04 14:52:35  b'DISPATCHED'     5.0     7     10     8     11  \n",
       "4  2016-06-04 15:23:25  b'DISPATCHED'     5.0     8     11     8     11  \n",
       "\n",
       "[5 rows x 41 columns]"
      ]
     },
     "execution_count": 143,
     "metadata": {},
     "output_type": "execute_result"
    }
   ],
   "source": [
    "df[]"
   ]
  },
  {
   "cell_type": "code",
   "execution_count": null,
   "metadata": {
    "collapsed": true
   },
   "outputs": [],
   "source": [
    "30.519264, -97.950095 and 30.120646, -97.572791"
   ]
  },
  {
   "cell_type": "code",
   "execution_count": 133,
   "metadata": {
    "collapsed": false
   },
   "outputs": [
    {
     "data": {
      "text/plain": [
       "0.019930899999999953"
      ]
     },
     "execution_count": 133,
     "metadata": {},
     "output_type": "execute_result"
    }
   ],
   "source": [
    "(30.519264-30.120646)/20"
   ]
  },
  {
   "cell_type": "code",
   "execution_count": 135,
   "metadata": {
    "collapsed": false
   },
   "outputs": [
    {
     "data": {
      "text/plain": [
       "-0.019999999999999574"
      ]
     },
     "execution_count": 135,
     "metadata": {},
     "output_type": "execute_result"
    }
   ],
   "source": [
    "(-97.96 - -97.56)/20"
   ]
  },
  {
   "cell_type": "code",
   "execution_count": 112,
   "metadata": {
    "collapsed": false
   },
   "outputs": [
    {
     "name": "stdout",
     "output_type": "stream",
     "text": [
      "<class 'pandas.core.frame.DataFrame'>\n",
      "Int64Index: 14008 entries, 253 to 1494007\n",
      "Data columns (total 59 columns):\n",
      "RIDE_ID                           14008 non-null int64\n",
      "started_on                        14008 non-null object\n",
      "created_date                      14008 non-null object\n",
      "updated_date                      14008 non-null object\n",
      "completed_on                      14008 non-null object\n",
      "distance_travelled                14008 non-null float64\n",
      "end_location_lat                  14008 non-null float64\n",
      "end_location_long                 14008 non-null float64\n",
      "driver_rating                     14008 non-null float64\n",
      "rider_rating                      14008 non-null float64\n",
      "active_driver_id                  14008 non-null int64\n",
      "charity_id                        2862 non-null float64\n",
      "requested_car_category            14008 non-null object\n",
      "free_credit_used                  1947 non-null float64\n",
      "surge_factor                      14008 non-null float64\n",
      "start_location_long               14008 non-null float64\n",
      "start_location_lat                14008 non-null float64\n",
      "rider_id                          14008 non-null int64\n",
      "round_up_amount                   13997 non-null float64\n",
      "promocode_redemption_id           425 non-null float64\n",
      "driver_reached_on                 13994 non-null object\n",
      "base_fare                         14008 non-null float64\n",
      "total_fare                        14008 non-null float64\n",
      "rate_per_mile                     14008 non-null float64\n",
      "rate_per_minute                   14008 non-null float64\n",
      "time_fare                         14008 non-null float64\n",
      "driver_accepted_on                14008 non-null object\n",
      "esimtated_time_arrive             13522 non-null object\n",
      "tipped_on                         2100 non-null object\n",
      "tip                               2100 non-null float64\n",
      "driving_time_to_rider             13910 non-null float64\n",
      "dispatch_location_lat             14008 non-null float64\n",
      "dispatch_location_long            14008 non-null float64\n",
      "driving_distance_to_rider         11786 non-null float64\n",
      "dispatched_on                     14008 non-null object\n",
      "status                            14008 non-null object\n",
      "driver_id                         14008 non-null int64\n",
      "car_id                            14008 non-null int64\n",
      "color                             14008 non-null object\n",
      "make                              14008 non-null object\n",
      "model                             14008 non-null object\n",
      "year                              14008 non-null object\n",
      "car_categories_bitmask            14008 non-null int64\n",
      "rating                            14008 non-null float64\n",
      "HOURLYVISIBILITY                  13922 non-null float64\n",
      "HOURLYDRYBULBTEMPC                13984 non-null float64\n",
      "HOURLYRelativeHumidity            13836 non-null float64\n",
      "HOURLYWindSpeed                   13895 non-null float64\n",
      "HOURLYWindDirection               10631 non-null float64\n",
      "HOURLYPrecip                      13313 non-null float64\n",
      "DAILYMaximumDryBulbTemp           670 non-null float64\n",
      "DAILYMinimumDryBulbTemp           670 non-null float64\n",
      "DAILYDeptFromNormalAverageTemp    670 non-null float64\n",
      "DAILYAverageRelativeHumidity      247 non-null float64\n",
      "DAILYSunrise                      14002 non-null float64\n",
      "DAILYSunset                       14002 non-null float64\n",
      "DAILYPrecip                       843 non-null float64\n",
      "DAILYAverageWindSpeed             659 non-null float64\n",
      "DAILYPeakWindSpeed                659 non-null float64\n",
      "dtypes: float64(38), int64(6), object(15)\n",
      "memory usage: 6.4+ MB\n",
      "<class 'pandas.core.frame.DataFrame'>\n",
      "Int64Index: 81026 entries, 29 to 1494111\n",
      "Data columns (total 59 columns):\n",
      "RIDE_ID                           81026 non-null int64\n",
      "started_on                        81026 non-null object\n",
      "created_date                      81026 non-null object\n",
      "updated_date                      81026 non-null object\n",
      "completed_on                      81026 non-null object\n",
      "distance_travelled                81026 non-null float64\n",
      "end_location_lat                  81026 non-null float64\n",
      "end_location_long                 81026 non-null float64\n",
      "driver_rating                     73361 non-null float64\n",
      "rider_rating                      81026 non-null float64\n",
      "active_driver_id                  81026 non-null int64\n",
      "charity_id                        18856 non-null float64\n",
      "requested_car_category            81026 non-null object\n",
      "free_credit_used                  10203 non-null float64\n",
      "surge_factor                      81026 non-null float64\n",
      "start_location_long               81026 non-null float64\n",
      "start_location_lat                81026 non-null float64\n",
      "rider_id                          81026 non-null int64\n",
      "round_up_amount                   80982 non-null float64\n",
      "promocode_redemption_id           2431 non-null float64\n",
      "driver_reached_on                 80954 non-null object\n",
      "base_fare                         81026 non-null float64\n",
      "total_fare                        81026 non-null float64\n",
      "rate_per_mile                     81026 non-null float64\n",
      "rate_per_minute                   81026 non-null float64\n",
      "time_fare                         81026 non-null float64\n",
      "driver_accepted_on                81025 non-null object\n",
      "esimtated_time_arrive             78428 non-null object\n",
      "tipped_on                         19066 non-null object\n",
      "tip                               19066 non-null float64\n",
      "driving_time_to_rider             80340 non-null float64\n",
      "dispatch_location_lat             81026 non-null float64\n",
      "dispatch_location_long            81026 non-null float64\n",
      "driving_distance_to_rider         69990 non-null float64\n",
      "dispatched_on                     81026 non-null object\n",
      "status                            81026 non-null object\n",
      "driver_id                         81026 non-null int64\n",
      "car_id                            81026 non-null int64\n",
      "color                             81026 non-null object\n",
      "make                              81026 non-null object\n",
      "model                             81026 non-null object\n",
      "year                              81026 non-null object\n",
      "car_categories_bitmask            81026 non-null int64\n",
      "rating                            81026 non-null float64\n",
      "HOURLYVISIBILITY                  80432 non-null float64\n",
      "HOURLYDRYBULBTEMPC                80866 non-null float64\n",
      "HOURLYRelativeHumidity            79910 non-null float64\n",
      "HOURLYWindSpeed                   80306 non-null float64\n",
      "HOURLYWindDirection               61195 non-null float64\n",
      "HOURLYPrecip                      76853 non-null float64\n",
      "DAILYMaximumDryBulbTemp           4014 non-null float64\n",
      "DAILYMinimumDryBulbTemp           4014 non-null float64\n",
      "DAILYDeptFromNormalAverageTemp    4014 non-null float64\n",
      "DAILYAverageRelativeHumidity      1387 non-null float64\n",
      "DAILYSunrise                      80959 non-null float64\n",
      "DAILYSunset                       80959 non-null float64\n",
      "DAILYPrecip                       5088 non-null float64\n",
      "DAILYAverageWindSpeed             3933 non-null float64\n",
      "DAILYPeakWindSpeed                3932 non-null float64\n",
      "dtypes: float64(38), int64(6), object(15)\n",
      "memory usage: 37.1+ MB\n",
      "<class 'pandas.core.frame.DataFrame'>\n",
      "Int64Index: 132476 entries, 2 to 1494101\n",
      "Data columns (total 59 columns):\n",
      "RIDE_ID                           132476 non-null int64\n",
      "started_on                        132476 non-null object\n",
      "created_date                      132476 non-null object\n",
      "updated_date                      132476 non-null object\n",
      "completed_on                      132476 non-null object\n",
      "distance_travelled                132476 non-null float64\n",
      "end_location_lat                  132476 non-null float64\n",
      "end_location_long                 132476 non-null float64\n",
      "driver_rating                     132476 non-null float64\n",
      "rider_rating                      129536 non-null float64\n",
      "active_driver_id                  132476 non-null int64\n",
      "charity_id                        27335 non-null float64\n",
      "requested_car_category            132476 non-null object\n",
      "free_credit_used                  20364 non-null float64\n",
      "surge_factor                      132476 non-null float64\n",
      "start_location_long               132476 non-null float64\n",
      "start_location_lat                132476 non-null float64\n",
      "rider_id                          132476 non-null int64\n",
      "round_up_amount                   132398 non-null float64\n",
      "promocode_redemption_id           3509 non-null float64\n",
      "driver_reached_on                 132335 non-null object\n",
      "base_fare                         132476 non-null float64\n",
      "total_fare                        132476 non-null float64\n",
      "rate_per_mile                     132476 non-null float64\n",
      "rate_per_minute                   132476 non-null float64\n",
      "time_fare                         132476 non-null float64\n",
      "driver_accepted_on                132461 non-null object\n",
      "esimtated_time_arrive             126166 non-null object\n",
      "tipped_on                         24569 non-null object\n",
      "tip                               24569 non-null float64\n",
      "driving_time_to_rider             131148 non-null float64\n",
      "dispatch_location_lat             132476 non-null float64\n",
      "dispatch_location_long            132476 non-null float64\n",
      "driving_distance_to_rider         105409 non-null float64\n",
      "dispatched_on                     132476 non-null object\n",
      "status                            132476 non-null object\n",
      "driver_id                         132476 non-null int64\n",
      "car_id                            132476 non-null int64\n",
      "color                             132476 non-null object\n",
      "make                              132476 non-null object\n",
      "model                             132476 non-null object\n",
      "year                              132476 non-null object\n",
      "car_categories_bitmask            132476 non-null int64\n",
      "rating                            132476 non-null float64\n",
      "HOURLYVISIBILITY                  131693 non-null float64\n",
      "HOURLYDRYBULBTEMPC                132241 non-null float64\n",
      "HOURLYRelativeHumidity            130883 non-null float64\n",
      "HOURLYWindSpeed                   131402 non-null float64\n",
      "HOURLYWindDirection               101504 non-null float64\n",
      "HOURLYPrecip                      126077 non-null float64\n",
      "DAILYMaximumDryBulbTemp           7338 non-null float64\n",
      "DAILYMinimumDryBulbTemp           7338 non-null float64\n",
      "DAILYDeptFromNormalAverageTemp    7338 non-null float64\n",
      "DAILYAverageRelativeHumidity      3157 non-null float64\n",
      "DAILYSunrise                      132393 non-null float64\n",
      "DAILYSunset                       132393 non-null float64\n",
      "DAILYPrecip                       8607 non-null float64\n",
      "DAILYAverageWindSpeed             7211 non-null float64\n",
      "DAILYPeakWindSpeed                7239 non-null float64\n",
      "dtypes: float64(38), int64(6), object(15)\n",
      "memory usage: 60.6+ MB\n"
     ]
    }
   ],
   "source": [
    "dfall[(dfall['driver_rating']<4.9) & (dfall['rider_rating']<4.9)].info()\n",
    "dfall[(dfall['rider_rating']<4.9)].info()\n",
    "dfall[(dfall['driver_rating']<4.9)].info()"
   ]
  },
  {
   "cell_type": "code",
   "execution_count": 26,
   "metadata": {
    "collapsed": false
   },
   "outputs": [],
   "source": [
    "dftip = dfb[dfb['tip'].notnull()]"
   ]
  },
  {
   "cell_type": "code",
   "execution_count": 31,
   "metadata": {
    "collapsed": false
   },
   "outputs": [
    {
     "name": "stdout",
     "output_type": "stream",
     "text": [
      "<class 'pandas.core.frame.DataFrame'>\n",
      "Int64Index: 430895 entries, 72220 to 1494123\n",
      "Data columns (total 24 columns):\n",
      "RIDE_ID                      430895 non-null int64\n",
      "base_fare                    430895 non-null float64\n",
      "total_fare                   430895 non-null float64\n",
      "rate_per_mile                430895 non-null float64\n",
      "rate_per_minute              430895 non-null float64\n",
      "time_fare                    430895 non-null float64\n",
      "driver_accepted_on           430895 non-null object\n",
      "esimtated_time_arrive        429297 non-null object\n",
      "tipped_on                    430895 non-null object\n",
      "tip                          430895 non-null float64\n",
      "driving_time_to_rider        428961 non-null float64\n",
      "dispatch_location_lat        430895 non-null float64\n",
      "dispatch_location_long       430895 non-null float64\n",
      "driving_distance_to_rider    380670 non-null float64\n",
      "dispatched_on                430895 non-null object\n",
      "status                       430895 non-null object\n",
      "driver_id                    430895 non-null int64\n",
      "car_id                       430895 non-null int64\n",
      "color                        430895 non-null object\n",
      "make                         430895 non-null object\n",
      "model                        430895 non-null object\n",
      "year                         430895 non-null object\n",
      "car_categories_bitmask       430895 non-null int64\n",
      "rating                       430895 non-null float64\n",
      "dtypes: float64(11), int64(4), object(9)\n",
      "memory usage: 82.2+ MB\n"
     ]
    }
   ],
   "source": [
    "dftip.info()"
   ]
  },
  {
   "cell_type": "code",
   "execution_count": 45,
   "metadata": {
    "collapsed": false
   },
   "outputs": [],
   "source": [
    "dftip3 = dftip[dftip['rating']<4]"
   ]
  },
  {
   "cell_type": "code",
   "execution_count": null,
   "metadata": {
    "collapsed": false
   },
   "outputs": [],
   "source": []
  },
  {
   "cell_type": "code",
   "execution_count": null,
   "metadata": {
    "collapsed": true
   },
   "outputs": [],
   "source": []
  }
 ],
 "metadata": {
  "kernelspec": {
   "display_name": "Python 2",
   "language": "python",
   "name": "python2"
  },
  "language_info": {
   "codemirror_mode": {
    "name": "ipython",
    "version": 2
   },
   "file_extension": ".py",
   "mimetype": "text/x-python",
   "name": "python",
   "nbconvert_exporter": "python",
   "pygments_lexer": "ipython2",
   "version": "2.7.13"
  }
 },
 "nbformat": 4,
 "nbformat_minor": 0
}
